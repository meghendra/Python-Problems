{
 "cells": [
  {
   "cell_type": "code",
   "execution_count": 14,
   "metadata": {
    "collapsed": false
   },
   "outputs": [
    {
     "name": "stdout",
     "output_type": "stream",
     "text": [
      "True\n"
     ]
    }
   ],
   "source": [
    "# One Away: Given two strings, write a function to check if they are zero edits \n",
    "# or one edit away. There are three types of edits: insert a character, remove \n",
    "# a character and replace a character\n",
    "# For E.g.:\n",
    "# pale, ple -> true [remove]\n",
    "# pale, pales-> true [insert]\n",
    "# pale, bale -> true [replace]\n",
    "# pale, bae -> false [invalid operation]\n",
    "\n",
    "def oneEditAway (stringOne, stringTwo):\n",
    "    shorter = \"\" \n",
    "    longer = \"\"\n",
    "    if abs(len(stringOne) - len(stringTwo)) > 1:\n",
    "        return False\n",
    "    \n",
    "    if(len(stringOne) > len(stringTwo)): \n",
    "        shorter = stringTwo \n",
    "        longer = stringOne\n",
    "    else: \n",
    "        shorter = stringOne \n",
    "        longer = stringTwo\n",
    "    i=0\n",
    "    j=0\n",
    "    foundDifference = False\n",
    "    while(i in range(0, len(shorter) - 1) and j in range(0, len(longer) - 1)):\n",
    "        if shorter[i] != longer[j]:\n",
    "            if foundDifference:\n",
    "                return False\n",
    "            foundDifference = True\n",
    "            if len(shorter) == len(longer):\n",
    "                i+=1\n",
    "        else:\n",
    "            i+=1\n",
    "        j+=1\n",
    "    return True\n",
    "    \n",
    "print oneEditAway(\"qwert\",\"qwerty\");"
   ]
  },
  {
   "cell_type": "code",
   "execution_count": null,
   "metadata": {
    "collapsed": true
   },
   "outputs": [],
   "source": []
  },
  {
   "cell_type": "code",
   "execution_count": null,
   "metadata": {
    "collapsed": true
   },
   "outputs": [],
   "source": []
  }
 ],
 "metadata": {
  "kernelspec": {
   "display_name": "Python [Root]",
   "language": "python",
   "name": "Python [Root]"
  },
  "language_info": {
   "codemirror_mode": {
    "name": "ipython",
    "version": 2
   },
   "file_extension": ".py",
   "mimetype": "text/x-python",
   "name": "python",
   "nbconvert_exporter": "python",
   "pygments_lexer": "ipython2",
   "version": "2.7.12"
  }
 },
 "nbformat": 4,
 "nbformat_minor": 0
}
