{
 "cells": [
  {
   "cell_type": "code",
   "execution_count": 11,
   "metadata": {
    "collapsed": false
   },
   "outputs": [
    {
     "name": "stdout",
     "output_type": "stream",
     "text": [
      "True\n",
      "False\n"
     ]
    }
   ],
   "source": [
    "# implement an algorithm to determine if a string has all unique characters, \n",
    "# given each character is ASCII (128 unique charvcters).\n",
    "\n",
    "# Sample inputs\n",
    "goodInput='abcd'\n",
    "badInput='abad'\n",
    "\n",
    "# define a function that returns true if no duplicates found,\n",
    "# false if duplicates are present.\n",
    "def isUniqueChars(inputStr):\n",
    "\n",
    "    # if length > 128 then there is atleast one non-unique character\n",
    "    if len(inputStr) > 128: return False\n",
    "    \n",
    "    # else keep an array of flags to track duplicates\n",
    "    # return false if any duplicate found\n",
    "    # return true if no duplicates found\n",
    "    checkCharacterArray = [False] * 128\n",
    "    \n",
    "    for character in inputStr:\n",
    "        if checkCharacterArray[ord(character)] is False:\n",
    "            checkCharacterArray[ord(character)] = True\n",
    "        else: return False;\n",
    "    return True\n",
    "\n",
    "\n",
    "# test the function\n",
    "print isUniqueChars(goodInput);\n",
    "print isUniqueChars(badInput);\n",
    "\n",
    "# Time complexity O(c), c = 128 as the function stops after \n",
    "# a maximum of 128 characeters in the input string \n"
   ]
  }
 ],
 "metadata": {
  "anaconda-cloud": {},
  "kernelspec": {
   "display_name": "Python [Root]",
   "language": "python",
   "name": "Python [Root]"
  },
  "language_info": {
   "codemirror_mode": {
    "name": "ipython",
    "version": 2
   },
   "file_extension": ".py",
   "mimetype": "text/x-python",
   "name": "python",
   "nbconvert_exporter": "python",
   "pygments_lexer": "ipython2",
   "version": "2.7.12"
  }
 },
 "nbformat": 4,
 "nbformat_minor": 0
}
