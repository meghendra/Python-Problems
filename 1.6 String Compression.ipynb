{
 "cells": [
  {
   "cell_type": "code",
   "execution_count": 25,
   "metadata": {
    "collapsed": false
   },
   "outputs": [
    {
     "name": "stdout",
     "output_type": "stream",
     "text": [
      "a2b1c5a3\n",
      "qwdsaqesde\n",
      "q1A3e1B2e1C1w3t1w1e1r1t2\n"
     ]
    }
   ],
   "source": [
    "#String Compression: Implement a method to perform basic string compression using the counts\n",
    "#of repeated characters. For example, the string aabcccccaaa would become a2b1c5a3. If the\n",
    "#\"compressed\" string would not become smaller than the original string, your method should return\n",
    "#the original string. You can assume the string has only uppercase and lowercase letters (a - z).\n",
    "\n",
    "def compressRepeats(inputString):\n",
    "    count = 1\n",
    "    index = 0\n",
    "    compressedString = ''\n",
    "    char1 = inputString[0]\n",
    "    restOfTheString = inputString[1:]\n",
    "    for char in restOfTheString:\n",
    "        index+=1\n",
    "        if index < len(inputString) and char1 == char:\n",
    "            count+=1\n",
    "        else:\n",
    "            compressedString = compressedString + char1 + str(count)\n",
    "            char1 = char\n",
    "            count = 1 \n",
    "    compressedString = compressedString+char1+str(count)\n",
    "    \n",
    "    # remove all 1's fromt the compressed string, to know if there are any repeated alphabets\n",
    "    if len(compressedString.replace('1','')) == len(inputString):\n",
    "        return inputString\n",
    "    else:\n",
    "        return compressedString\n",
    "\n",
    "#compressible string\n",
    "print compressRepeats('aabcccccaaa')\n",
    "#non-compressible string\n",
    "print compressRepeats('qwdsaqesde')\n",
    "#upper and lower case \n",
    "print compressRepeats('qAAAeBBeCwwwtwertt')\n"
   ]
  },
  {
   "cell_type": "code",
   "execution_count": null,
   "metadata": {
    "collapsed": true
   },
   "outputs": [],
   "source": []
  }
 ],
 "metadata": {
  "kernelspec": {
   "display_name": "Python [Root]",
   "language": "python",
   "name": "Python [Root]"
  },
  "language_info": {
   "codemirror_mode": {
    "name": "ipython",
    "version": 2
   },
   "file_extension": ".py",
   "mimetype": "text/x-python",
   "name": "python",
   "nbconvert_exporter": "python",
   "pygments_lexer": "ipython2",
   "version": "2.7.12"
  }
 },
 "nbformat": 4,
 "nbformat_minor": 0
}
