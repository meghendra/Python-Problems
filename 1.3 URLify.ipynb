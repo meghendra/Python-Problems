{
 "cells": [
  {
   "cell_type": "code",
   "execution_count": 10,
   "metadata": {
    "collapsed": false
   },
   "outputs": [
    {
     "name": "stdout",
     "output_type": "stream",
     "text": [
      "Mr.%20John%20Smith\n"
     ]
    }
   ],
   "source": [
    "# URLify write a method to replace all spaces in a \n",
    "# string with '%20'. Given the true length of string\n",
    "# the string has sufficient space to hold the additional \n",
    "# characters; E.g. Input: \"Mr. John Smith   \", 13 \n",
    "# E.g. Output \"Mr.%20Jphn%20Smith\" ; i.e. truncate begining and trailing white spaces??\n",
    "\n",
    "\n",
    "def urlifyString(inputString):\n",
    "    outputString = \"\"\n",
    "    \n",
    "    for character in inputString.strip():\n",
    "        if character == ' ': outputString+='%20';\n",
    "            \n",
    "        else: outputString+= character;\n",
    "        \n",
    "    return outputString\n",
    "\n",
    "print urlifyString(\"  Mr. John Smith   \");\n"
   ]
  },
  {
   "cell_type": "code",
   "execution_count": null,
   "metadata": {
    "collapsed": true
   },
   "outputs": [],
   "source": []
  }
 ],
 "metadata": {
  "anaconda-cloud": {},
  "kernelspec": {
   "display_name": "Python [Root]",
   "language": "python",
   "name": "Python [Root]"
  },
  "language_info": {
   "codemirror_mode": {
    "name": "ipython",
    "version": 2
   },
   "file_extension": ".py",
   "mimetype": "text/x-python",
   "name": "python",
   "nbconvert_exporter": "python",
   "pygments_lexer": "ipython2",
   "version": "2.7.12"
  }
 },
 "nbformat": 4,
 "nbformat_minor": 0
}
