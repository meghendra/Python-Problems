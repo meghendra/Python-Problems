{
 "cells": [
  {
   "cell_type": "code",
   "execution_count": 5,
   "metadata": {
    "collapsed": false
   },
   "outputs": [
    {
     "name": "stdout",
     "output_type": "stream",
     "text": [
      "True\n",
      "False\n",
      "False\n"
     ]
    }
   ],
   "source": [
    "# Given two strings, write a method to decide if \n",
    "# one is a permutation of the other\n",
    "\n",
    "testString1= 'abcd'\n",
    "testString2= 'adbc'\n",
    "testString3= 'bdce'\n",
    "testString4= 'abdce'\n",
    "\n",
    "\n",
    "def checkPermutation(inputString1,inputString2):\n",
    "    \n",
    "    if(len(inputString1) != len(inputString2)): return False\n",
    "    \n",
    "    if(''.join(sorted(inputString1)) == ''.join(sorted(inputString2))): return True\n",
    "    \n",
    "    else : return False\n",
    "\n",
    "print checkPermutation(testString1,testString2);\n",
    "print checkPermutation(testString1,testString3);\n",
    "print checkPermutation(testString1,testString4);\n"
   ]
  },
  {
   "cell_type": "code",
   "execution_count": null,
   "metadata": {
    "collapsed": true
   },
   "outputs": [],
   "source": []
  }
 ],
 "metadata": {
  "kernelspec": {
   "display_name": "Python [Root]",
   "language": "python",
   "name": "Python [Root]"
  },
  "language_info": {
   "codemirror_mode": {
    "name": "ipython",
    "version": 2
   },
   "file_extension": ".py",
   "mimetype": "text/x-python",
   "name": "python",
   "nbconvert_exporter": "python",
   "pygments_lexer": "ipython2",
   "version": "2.7.12"
  }
 },
 "nbformat": 4,
 "nbformat_minor": 0
}
