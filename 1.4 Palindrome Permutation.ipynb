{
 "cells": [
  {
   "cell_type": "code",
   "execution_count": 21,
   "metadata": {
    "collapsed": false
   },
   "outputs": [
    {
     "name": "stdout",
     "output_type": "stream",
     "text": [
      "False\n",
      "True\n",
      "True\n",
      "False\n",
      "True\n"
     ]
    }
   ],
   "source": [
    "# Given a string, write a function to check if it is a permutation \n",
    "# of a palindrome. The plaindrome does not need to be limited to just\n",
    "# dictionary words.\n",
    "# Example input: Tact Coa\n",
    "# Example output: True (permutations: \"taco cat\", \"atco cta\", ...)\n",
    "# Assumptions: whitespaces in input are not considered, also the function is \n",
    "# is not case sensetive\n",
    "\n",
    "import string\n",
    "\n",
    "def isPermutationOfPalindrome (inputString):\n",
    "    booleanAlphaDict = dict.fromkeys(string.lowercase,False)\n",
    "    singleCharCount = 0\n",
    "    \n",
    "    for char in inputString.lower().replace(\" \", \"\"):\n",
    "        if ord(char) < 97 or ord (char) > 122:\n",
    "            return false\n",
    "        else:\n",
    "            booleanAlphaDict[char] = not booleanAlphaDict[char]\n",
    "    \n",
    "    for key in booleanAlphaDict:\n",
    "        if booleanAlphaDict[key] is True:\n",
    "            singleCharCount += 1\n",
    "            if singleCharCount > 1:\n",
    "                return False\n",
    "    return True\n",
    "\n",
    "print isPermutationOfPalindrome(\"asd fAdasd aasadAWE\")\n",
    "print isPermutationOfPalindrome(\"Tact Coa\")\n",
    "print isPermutationOfPalindrome(\"Malyl  am   \")\n",
    "print isPermutationOfPalindrome(\"abc dadf\")\n",
    "print isPermutationOfPalindrome(\"abbccddff\")\n"
   ]
  },
  {
   "cell_type": "code",
   "execution_count": null,
   "metadata": {
    "collapsed": true
   },
   "outputs": [],
   "source": []
  }
 ],
 "metadata": {
  "kernelspec": {
   "display_name": "Python [Root]",
   "language": "python",
   "name": "Python [Root]"
  },
  "language_info": {
   "codemirror_mode": {
    "name": "ipython",
    "version": 2
   },
   "file_extension": ".py",
   "mimetype": "text/x-python",
   "name": "python",
   "nbconvert_exporter": "python",
   "pygments_lexer": "ipython2",
   "version": "2.7.12"
  }
 },
 "nbformat": 4,
 "nbformat_minor": 0
}
